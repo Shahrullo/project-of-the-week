{
 "cells": [
  {
   "cell_type": "code",
   "execution_count": 1,
   "id": "50dc27a9-92eb-4eea-84b1-8bd85e5cfd64",
   "metadata": {},
   "outputs": [],
   "source": [
    "import json\n",
    "from PIL import Image\n",
    "from tqdm.notebook import tqdm"
   ]
  },
  {
   "cell_type": "code",
   "execution_count": 2,
   "id": "6c6b8a60-ee74-4e5e-aa8e-a3ca6caed127",
   "metadata": {},
   "outputs": [],
   "source": [
    "# Load COCO JSON\n",
    "with open('trainPart_coco.json', 'r') as json_file:\n",
    "    coco_data = json.load(json_file)"
   ]
  },
  {
   "cell_type": "code",
   "execution_count": 3,
   "id": "2519d725-f24b-48e5-8eb2-dde648f190e8",
   "metadata": {},
   "outputs": [
    {
     "data": {
      "application/vnd.jupyter.widget-view+json": {
       "model_id": "ac8cecb48a6140b8a29a530dbbf8f480",
       "version_major": 2,
       "version_minor": 0
      },
      "text/plain": [
       "  0%|          | 0/1000 [00:00<?, ?it/s]"
      ]
     },
     "metadata": {},
     "output_type": "display_data"
    }
   ],
   "source": [
    "# Load COCO JSON\n",
    "with open('trainPart_coco.json', 'r') as json_file:\n",
    "    coco_data = json.load(json_file)\n",
    "\n",
    "# Iterate thorugh images\n",
    "for image_data in tqdm(coco_data['images']):\n",
    "    image_id = image_data['id']\n",
    "    image_filename = image_data['file_name']\n",
    "    image_width = image_data['width']\n",
    "    image_height = image_data['height']\n",
    "\n",
    "    max_x = float('-inf')\n",
    "    max_y = float('-inf')\n",
    "    min_x = float('inf')\n",
    "    min_y = float('inf')\n",
    "\n",
    "    # Find the widest and highest points within all bounding boxes\n",
    "    for annotation in coco_data['annotations']:\n",
    "        if annotation['image_id'] == image_id:\n",
    "            bbox_x, bbox_y, bbox_width, bbox_height = annotation['bbox']\n",
    "            max_x = max(max_x, bbox_x + bbox_width)\n",
    "            max_y = max(max_y, bbox_y + bbox_height)\n",
    "            min_x = min(min_x, bbox_x)\n",
    "            min_y = min(min_y, bbox_y)\n",
    "            \n",
    "\n",
    "    # Calculate new bounding box dimensions\n",
    "    new_bbox_x = max(0, min_x)\n",
    "    new_bbox_y = max(0, min_y)\n",
    "    new_bbox_width = min(image_width, max_x - new_bbox_x)\n",
    "    new_bbox_height = min(image_height, max_y - new_bbox_y)\n",
    "\n",
    "    # Calculate new bounding box coordinates as per requirement\n",
    "    new_bbox_width = min(image_width, int(new_bbox_width * 1.2))\n",
    "    new_bbox_height = min(image_height, int(new_bbox_height * 1.5))\n",
    "\n",
    "    # Crop and save image\n",
    "    img = Image.open(f'trainPart/{image_filename}')\n",
    "\n",
    "    # Check for out-of-bounds cropping\n",
    "    new_bbox_x = min(new_bbox_x, image_width - new_bbox_width)\n",
    "    new_bbox_y = min(new_bbox_y, image_height - new_bbox_height)\n",
    "    \n",
    "    cropped_img = img.crop((new_bbox_x, new_bbox_y, new_bbox_x + new_bbox_width, new_bbox_y + new_bbox_height))\n",
    "    cropped_img.save(f'trainPartCropped/{image_filename}')"
   ]
  },
  {
   "cell_type": "code",
   "execution_count": 4,
   "id": "76702e8e-5852-4d45-905a-afa239e8116c",
   "metadata": {},
   "outputs": [],
   "source": [
    "# # Iterate thorugh images\n",
    "# for image_data in tqdm(coco_data['images']):\n",
    "#     image_id = image_data['id']\n",
    "#     image_filename = image_data['file_name']\n",
    "#     image_width = image_data['width']\n",
    "#     image_height = image_data['height']\n",
    "#     # print(f'image_id: {image_id}\\\n",
    "#     #         \\nimage_filename: {image_filename}\\\n",
    "#     #         \\nimage_width: {image_width}\\\n",
    "#     #         \\nimage_height: {image_height}')    \n",
    "\n",
    "#     max_bbox_width = 0\n",
    "#     max_bbox_height = 0\n",
    "\n",
    "#     # Find maximum bbox dimensions\n",
    "#     for annotation in coco_data['annotations']:\n",
    "#         if annotation['image_id'] == image_id:\n",
    "#             bbox_width = annotation['bbox'][2]\n",
    "#             bbox_height = annotation['bbox'][3]\n",
    "#             max_bbox_width = max(max_bbox_width, bbox_width)\n",
    "#             max_bbox_height = max(max_bbox_height, bbox_height)\n",
    "\n",
    "#     # Calculate new bounding box dimensions\n",
    "#     aspect_ratio = max_bbox_width / max_bbox_height\n",
    "#     new_bbox_width = min(image_width, int(max_bbox_width * 1.2))\n",
    "#     new_bbox_height = min(image_height, int(max_bbox_height * 1.8))\n",
    "\n",
    "#     # Calculate new bounding box coordinates\n",
    "#     new_bbox_x = max(0, (image_width - new_bbox_width) // 2)\n",
    "#     new_bbox_y = max(0, (image_height - new_bbox_height) // 2)\n",
    "\n",
    "#     # Crop and save image\n",
    "#     img = Image.open(f'trainPart/{image_filename}')\n",
    "\n",
    "#     # Check for out-of-bounds cropping\n",
    "#     new_bbox_x = min(new_bbox_x, image_width - new_bbox_width)\n",
    "#     new_bbox_y = min(new_bbox_y, image_height - new_bbox_height)\n",
    "    \n",
    "#     cropped_img = img.crop((new_bbox_x, new_bbox_y, new_bbox_x + new_bbox_width, new_bbox_y + new_bbox_height))\n",
    "#     cropped_img.save(f'trainPartCropped/{image_filename}')"
   ]
  },
  {
   "cell_type": "code",
   "execution_count": null,
   "id": "2c8ef038-02b5-4b0d-ad68-a3da9247f2d9",
   "metadata": {},
   "outputs": [],
   "source": []
  },
  {
   "cell_type": "code",
   "execution_count": null,
   "id": "f66305b2-c947-4e05-a760-579b96b10c66",
   "metadata": {},
   "outputs": [],
   "source": []
  }
 ],
 "metadata": {
  "kernelspec": {
   "display_name": "Python 3 (ipykernel)",
   "language": "python",
   "name": "python3"
  },
  "language_info": {
   "codemirror_mode": {
    "name": "ipython",
    "version": 3
   },
   "file_extension": ".py",
   "mimetype": "text/x-python",
   "name": "python",
   "nbconvert_exporter": "python",
   "pygments_lexer": "ipython3",
   "version": "3.10.11"
  }
 },
 "nbformat": 4,
 "nbformat_minor": 5
}
